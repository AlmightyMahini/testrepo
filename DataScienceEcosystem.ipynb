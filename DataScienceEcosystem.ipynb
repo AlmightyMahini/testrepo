{
 "cells": [
  {
   "cell_type": "markdown",
   "id": "f1bd5252-eef5-4dca-bc6e-2c80aab53312",
   "metadata": {},
   "source": [
    "# Data Science Tools and Ecosystem"
   ]
  },
  {
   "cell_type": "markdown",
   "id": "eb88322c-a773-4f59-93b6-8c7cc42b3ce0",
   "metadata": {},
   "source": [
    "In this notebook, Data Science Tools and Ecosystem are summarized."
   ]
  },
  {
   "cell_type": "markdown",
   "id": "a406a453-2893-4dac-8cfb-2faeff7bc289",
   "metadata": {},
   "source": [
    "Some of the popular languages that Data Scientists use are:\n",
    "1. Python\n",
    "2. R\n",
    "3. SQL"
   ]
  },
  {
   "cell_type": "markdown",
   "id": "0c2f995d-f9a0-4128-ac1f-1bd228b48d37",
   "metadata": {},
   "source": [
    "Some of the commonly used libraries used by Data Scientists include:\n",
    "1. dplyr\n",
    "2. ggplot2\n",
    "3. caret\n"
   ]
  },
  {
   "cell_type": "markdown",
   "id": "817859ff-67b8-4753-8484-5ca97dfd7a92",
   "metadata": {},
   "source": [
    "| Data Science Tools |\n",
    "|---------------------|\n",
    "| Jupyter Notebook     |\n",
    "| RStudio              |\n",
    "| Anaconda             |\n"
   ]
  },
  {
   "cell_type": "markdown",
   "id": "4f011b94-05f1-4133-98a0-b1dd01eea80d",
   "metadata": {},
   "source": [
    "### Below are a few examples of evaluating arithmetic expressions in Python."
   ]
  },
  {
   "cell_type": "code",
   "execution_count": 2,
   "id": "bc5a9541-5f27-4bcb-b16d-567ca97738dd",
   "metadata": {
    "tags": []
   },
   "outputs": [
    {
     "name": "stdout",
     "output_type": "stream",
     "text": [
      "17\n"
     ]
    }
   ],
   "source": [
    "# This is a simple arithmetic expression to multiply then add integers.\n",
    "result = (3 * 4) + 5\n",
    "print(result)"
   ]
  },
  {
   "cell_type": "code",
   "execution_count": 3,
   "id": "f8fbc172-f381-40fb-9814-d7e187c17c26",
   "metadata": {
    "tags": []
   },
   "outputs": [
    {
     "name": "stdout",
     "output_type": "stream",
     "text": [
      "3.3333333333333335\n"
     ]
    }
   ],
   "source": [
    "# This will convert 200 minutes to hours by dividing by 60.\n",
    "hours = 200 / 60\n",
    "print(hours)"
   ]
  },
  {
   "cell_type": "markdown",
   "id": "c7dd4847-3551-4d39-a9b3-5f330827a4c2",
   "metadata": {},
   "source": [
    "**Objectives:**\n",
    "- List popular languages for Data Science.\n",
    "- Describe key libraries for Data Science.\n",
    "- Create and manipulate a Jupyter Notebook."
   ]
  },
  {
   "cell_type": "markdown",
   "id": "efb6f4f2-768a-4a81-b599-65cd6db14f2d",
   "metadata": {},
   "source": [
    "## Author\n",
    "Yasmine B\n"
   ]
  }
 ],
 "metadata": {
  "kernelspec": {
   "display_name": "Python",
   "language": "python",
   "name": "conda-env-python-py"
  },
  "language_info": {
   "codemirror_mode": {
    "name": "ipython",
    "version": 3
   },
   "file_extension": ".py",
   "mimetype": "text/x-python",
   "name": "python",
   "nbconvert_exporter": "python",
   "pygments_lexer": "ipython3",
   "version": "3.7.12"
  }
 },
 "nbformat": 4,
 "nbformat_minor": 5
}
